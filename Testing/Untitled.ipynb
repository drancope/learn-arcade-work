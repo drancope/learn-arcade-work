{
 "cells": [
  {
   "cell_type": "code",
   "execution_count": 1,
   "id": "a7f05d57",
   "metadata": {},
   "outputs": [],
   "source": [
    "import arcade\n",
    "arcade.open_window(600, 600, \"Drawing Example\")\n",
    "arcade.set_background_color(arcade.csscolor.SKY_BLUE)\n",
    "\n",
    "# Get ready to draw\n",
    "arcade.start_render()\n",
    "\n",
    "# (The drawing code will go here.)\n",
    "arcade.draw_lrtb_rectangle_filled(0, 599, 300, 0, arcade.csscolor.GREEN)\n",
    "arcade.draw_rectangle_filled(100, 320, 20, 60, arcade.csscolor.SIENNA)\n",
    "arcade.draw_circle_filled(100, 350, 30, arcade.csscolor.DARK_GREEN)\n",
    "# Another tree, with a trunk and ellipse for top\n",
    "arcade.draw_rectangle_filled(200, 320, 20, 60, arcade.csscolor.SIENNA)\n",
    "arcade.draw_ellipse_filled(200, 370, 60, 80, arcade.csscolor.DARK_GREEN)\n",
    "\n",
    "# Another tree, with a trunk and arc for top\n",
    "# Arc is centered at (300, 340) with a width of 60 and height of 100.\n",
    "# The starting angle is 0, and ending angle is 180.\n",
    "arcade.draw_rectangle_filled(300, 320, 20, 60, arcade.csscolor.SIENNA)\n",
    "arcade.draw_arc_filled(300, 340, 60, 100, arcade.csscolor.DARK_GREEN, 0, 180)\n",
    "\n",
    "# Another tree, with a trunk and triangle for top\n",
    "# Triangle is made of these three points:\n",
    "# (400, 400), (370, 320), (430, 320)\n",
    "arcade.draw_rectangle_filled(400, 320, 20, 60, arcade.csscolor.SIENNA)\n",
    "arcade.draw_triangle_filled(400, 400, 370, 320, 430, 320, arcade.csscolor.DARK_GREEN)\n",
    "\n",
    "# Draw a tree using a polygon with a list of points\n",
    "arcade.draw_rectangle_filled(500, 320, 20, 60, arcade.csscolor.SIENNA)\n",
    "arcade.draw_polygon_filled(((500, 400),\n",
    "                            (480, 360),\n",
    "                            (470, 320),\n",
    "                            (530, 320),\n",
    "                            (520, 360)\n",
    "                            ),\n",
    "                           arcade.csscolor.DARK_GREEN)\n",
    "\n",
    "# Draw a sun\n",
    "arcade.draw_circle_filled(500, 550, 40, arcade.color.YELLOW)\n",
    "\n",
    "# Rays to the left, right, up, and down\n",
    "arcade.draw_line(500, 550, 400, 550, arcade.color.YELLOW, 3)\n",
    "arcade.draw_line(500, 550, 600, 550, arcade.color.YELLOW, 3)\n",
    "arcade.draw_line(500, 550, 500, 450, arcade.color.YELLOW, 3)\n",
    "arcade.draw_line(500, 550, 500, 650, arcade.color.YELLOW, 3)\n",
    "\n",
    "# Diagonal rays\n",
    "arcade.draw_line(500, 550, 550, 600, arcade.color.YELLOW, 3)\n",
    "arcade.draw_line(500, 550, 550, 500, arcade.color.YELLOW, 3)\n",
    "arcade.draw_line(500, 550, 450, 600, arcade.color.YELLOW, 3)\n",
    "arcade.draw_line(500, 550, 450, 500, arcade.color.YELLOW, 3)\n",
    "\n",
    "# Draw text at (150, 230) with a font size of 24 pts.\n",
    "arcade.draw_text(\"Arbor Day - Plant a Tree!\",\n",
    "                 150, 230,\n",
    "                 arcade.color.BLACK, 24)\n",
    "# Finish drawing\n",
    "arcade.finish_render()\n",
    "arcade.run()"
   ]
  },
  {
   "cell_type": "code",
   "execution_count": 1,
   "id": "fb12b8bc",
   "metadata": {},
   "outputs": [],
   "source": [
    "import arcade\n",
    "arcade.open_window(600, 600, \"Drawing Example\")\n",
    "arcade.set_background_color(arcade.csscolor.SKY_BLUE)\n",
    "arcade.run()"
   ]
  },
  {
   "cell_type": "code",
   "execution_count": null,
   "id": "361c78af",
   "metadata": {},
   "outputs": [],
   "source": []
  }
 ],
 "metadata": {
  "kernelspec": {
   "display_name": "Python 3 (ipykernel)",
   "language": "python",
   "name": "python3"
  },
  "language_info": {
   "codemirror_mode": {
    "name": "ipython",
    "version": 3
   },
   "file_extension": ".py",
   "mimetype": "text/x-python",
   "name": "python",
   "nbconvert_exporter": "python",
   "pygments_lexer": "ipython3",
   "version": "3.9.15"
  }
 },
 "nbformat": 4,
 "nbformat_minor": 5
}
